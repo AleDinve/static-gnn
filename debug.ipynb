{
 "cells": [
  {
   "cell_type": "code",
   "execution_count": 1,
   "metadata": {},
   "outputs": [],
   "source": [
    "import numpy as np"
   ]
  },
  {
   "cell_type": "code",
   "execution_count": 2,
   "metadata": {},
   "outputs": [],
   "source": [
    "a = np.array([1,2,4,2,3,1,4,5,7,2,3,1,3,5,1])"
   ]
  },
  {
   "cell_type": "code",
   "execution_count": 3,
   "metadata": {},
   "outputs": [],
   "source": [
    "a_un, b, c = np.unique(a, return_counts=True, return_inverse=True)"
   ]
  },
  {
   "cell_type": "code",
   "execution_count": 4,
   "metadata": {},
   "outputs": [
    {
     "data": {
      "text/plain": [
       "array([1, 2, 3, 4, 5, 7])"
      ]
     },
     "execution_count": 4,
     "metadata": {},
     "output_type": "execute_result"
    }
   ],
   "source": [
    "a_un"
   ]
  },
  {
   "cell_type": "code",
   "execution_count": 6,
   "metadata": {},
   "outputs": [
    {
     "data": {
      "text/plain": [
       "array([4, 3, 2, 3, 3, 4, 2, 2, 1, 3, 3, 4, 3, 2, 4])"
      ]
     },
     "execution_count": 6,
     "metadata": {},
     "output_type": "execute_result"
    }
   ],
   "source": [
    "c[b]"
   ]
  },
  {
   "cell_type": "code",
   "execution_count": 7,
   "metadata": {},
   "outputs": [
    {
     "data": {
      "text/plain": [
       "array([1, 2, 4, 2, 3, 1, 4, 5, 7, 2, 3, 1, 3, 5, 1])"
      ]
     },
     "execution_count": 7,
     "metadata": {},
     "output_type": "execute_result"
    }
   ],
   "source": [
    "a"
   ]
  },
  {
   "cell_type": "code",
   "execution_count": 12,
   "metadata": {},
   "outputs": [],
   "source": [
    "c_inv = c[b]"
   ]
  },
  {
   "cell_type": "code",
   "execution_count": 14,
   "metadata": {},
   "outputs": [
    {
     "data": {
      "text/plain": [
       "array([4, 3, 2, 3, 3, 4, 2, 2, 1, 3, 3, 4, 3, 2, 4])"
      ]
     },
     "execution_count": 14,
     "metadata": {},
     "output_type": "execute_result"
    }
   ],
   "source": [
    "c_inv"
   ]
  },
  {
   "cell_type": "code",
   "execution_count": 16,
   "metadata": {},
   "outputs": [
    {
     "data": {
      "text/plain": [
       "array([4, 3, 3, 3, 4, 3, 3, 4, 3, 4])"
      ]
     },
     "execution_count": 16,
     "metadata": {},
     "output_type": "execute_result"
    }
   ],
   "source": [
    "c_inv[c_inv>2]"
   ]
  },
  {
   "cell_type": "code",
   "execution_count": 17,
   "metadata": {},
   "outputs": [
    {
     "data": {
      "text/plain": [
       "array([ True,  True, False,  True,  True,  True, False, False, False,\n",
       "        True,  True,  True,  True, False,  True])"
      ]
     },
     "execution_count": 17,
     "metadata": {},
     "output_type": "execute_result"
    }
   ],
   "source": [
    "c_inv>2"
   ]
  },
  {
   "cell_type": "code",
   "execution_count": 18,
   "metadata": {},
   "outputs": [],
   "source": [
    "a = np.zeros(np.size(c_inv))"
   ]
  },
  {
   "cell_type": "code",
   "execution_count": 19,
   "metadata": {},
   "outputs": [
    {
     "data": {
      "text/plain": [
       "array([0., 0., 0., 0., 0., 0., 0., 0., 0., 0.])"
      ]
     },
     "execution_count": 19,
     "metadata": {},
     "output_type": "execute_result"
    }
   ],
   "source": [
    "a[c_inv>2]"
   ]
  },
  {
   "cell_type": "code",
   "execution_count": 21,
   "metadata": {},
   "outputs": [
    {
     "ename": "AttributeError",
     "evalue": "'list' object has no attribute 'len'",
     "output_type": "error",
     "traceback": [
      "\u001b[0;31m---------------------------------------------------------------------------\u001b[0m",
      "\u001b[0;31mAttributeError\u001b[0m                            Traceback (most recent call last)",
      "\u001b[1;32m/home/dinverno/repo/dinverno/static_GNN/debug.ipynb Cella 13\u001b[0m line \u001b[0;36m2\n\u001b[1;32m      <a href='vscode-notebook-cell://ssh-remote%2B10.1.0.104/home/dinverno/repo/dinverno/static_GNN/debug.ipynb#X15sdnNjb2RlLXJlbW90ZQ%3D%3D?line=0'>1</a>\u001b[0m a \u001b[39m=\u001b[39m [\u001b[39m1\u001b[39m,\u001b[39m2\u001b[39m,\u001b[39m3\u001b[39m,\u001b[39m4\u001b[39m]\n\u001b[0;32m----> <a href='vscode-notebook-cell://ssh-remote%2B10.1.0.104/home/dinverno/repo/dinverno/static_GNN/debug.ipynb#X15sdnNjb2RlLXJlbW90ZQ%3D%3D?line=1'>2</a>\u001b[0m a\u001b[39m.\u001b[39;49mlen()\n",
      "\u001b[0;31mAttributeError\u001b[0m: 'list' object has no attribute 'len'"
     ]
    }
   ],
   "source": [
    "a = [1,2,3,4]\n",
    "a.len()"
   ]
  },
  {
   "cell_type": "code",
   "execution_count": 7,
   "metadata": {},
   "outputs": [],
   "source": [
    "from torch_geometric.data import InMemoryDataset\n",
    "import torch\n",
    "from dataset_wl import dataset_gen"
   ]
  },
  {
   "cell_type": "code",
   "execution_count": 8,
   "metadata": {},
   "outputs": [],
   "source": [
    "class QM9_reduct(InMemoryDataset):\n",
    "    def __init__(self, root, num_it, batch_size, \n",
    "                 transform=None, pre_transform=None, pre_filter=None):\n",
    "        self.num_it = num_it\n",
    "        self.batch_size = batch_size\n",
    "        super().__init__(root, transform, pre_transform, pre_filter)  \n",
    "        self.data, self.slices = torch.load(self.processed_paths[0])\n",
    "    \n",
    "    @property\n",
    "    def processed_file_names(self):\n",
    "        return ['data.pt']\n",
    "\n",
    "    def process(self):\n",
    "        _, _, self.num_classes, data_list = dataset_gen(self.num_it, 'QM9', self.batch_size)\n",
    "        data, slices = self.collate(data_list)\n",
    "        torch.save((data, slices), self.processed_paths[0]) \n"
   ]
  },
  {
   "cell_type": "code",
   "execution_count": 11,
   "metadata": {},
   "outputs": [
    {
     "data": {
      "text/plain": [
       "QM9_reduct(205)"
      ]
     },
     "execution_count": 11,
     "metadata": {},
     "output_type": "execute_result"
    }
   ],
   "source": [
    "num_it = 4\n",
    "QM9_reduct('./data/QM9_'+str(num_it)+'/',num_it,16)"
   ]
  },
  {
   "cell_type": "code",
   "execution_count": 12,
   "metadata": {},
   "outputs": [],
   "source": [
    "a = QM9_reduct('./data/QM9_'+str(num_it)+'/',num_it,16)"
   ]
  },
  {
   "cell_type": "code",
   "execution_count": 9,
   "metadata": {},
   "outputs": [],
   "source": [
    "hidden_size = 16\n",
    "num_layers = 4\n",
    "batch_size = 64\n",
    "threshold = 40\n",
    "\n",
    "dataset = './data/QM9_IT'+str(num_layers)+'_THR'+str(threshold)+'/'"
   ]
  },
  {
   "cell_type": "code",
   "execution_count": 4,
   "metadata": {},
   "outputs": [
    {
     "data": {
      "text/plain": [
       "'./data/QM9_IT4_THR40/'"
      ]
     },
     "execution_count": 4,
     "metadata": {},
     "output_type": "execute_result"
    }
   ],
   "source": [
    "dataset"
   ]
  },
  {
   "cell_type": "code",
   "execution_count": 10,
   "metadata": {},
   "outputs": [],
   "source": [
    "from dataset_wl import dataloader_gen\n",
    "train_loader, num_features, num_classes = dataloader_gen(dataset, num_layers, batch_size, threshold)\n",
    "  "
   ]
  },
  {
   "cell_type": "code",
   "execution_count": 11,
   "metadata": {},
   "outputs": [
    {
     "data": {
      "text/plain": [
       "9"
      ]
     },
     "execution_count": 11,
     "metadata": {},
     "output_type": "execute_result"
    }
   ],
   "source": [
    "num_classes"
   ]
  },
  {
   "cell_type": "code",
   "execution_count": 7,
   "metadata": {},
   "outputs": [
    {
     "data": {
      "text/plain": [
       "<Axes: ylabel='age'>"
      ]
     },
     "execution_count": 7,
     "metadata": {},
     "output_type": "execute_result"
    },
    {
     "data": {
      "image/png": "[encoded data removed]",
      "text/plain": [
       "<Figure size 640x480 with 1 Axes>"
      ]
     },
     "metadata": {},
     "output_type": "display_data"
    }
   ],
   "source": [
    "import seaborn as sns\n",
    "import pandas as pd\n",
    "a = []\n",
    "for i in range(20):\n",
    "    a.append({'age':i})\n",
    "box = pd.DataFrame(a)\n",
    "sns.boxplot(y=box['age'])\n"
   ]
  },
  {
   "cell_type": "code",
   "execution_count": 2,
   "metadata": {},
   "outputs": [],
   "source": [
    "num_layers = 4\n",
    "threshold = 45\n",
    "dataset = './data/QM9_IT'+str(num_layers)+'_THR'+str(threshold)+'/' "
   ]
  },
  {
   "cell_type": "code",
   "execution_count": 5,
   "metadata": {},
   "outputs": [],
   "source": [
    "from dataset_wl import dataset_gen, dataloader_gen, trial_loader\n",
    "batch_size = 64\n",
    "train_loader, num_features, num_classes = dataloader_gen(dataset, num_layers, batch_size, threshold)     \n"
   ]
  },
  {
   "cell_type": "code",
   "execution_count": 52,
   "metadata": {},
   "outputs": [],
   "source": [
    "import pandas as pd\n",
    "import matplotlib.pyplot as plt\n",
    "import seaborn as sns\n",
    "from dataset_wl import QM9_reduct\n",
    "from matplotlib.ticker import MultipleLocator"
   ]
  },
  {
   "cell_type": "code",
   "execution_count": 15,
   "metadata": {},
   "outputs": [],
   "source": [
    "data = pd.read_csv('train_acc_data_IT4.csv')\n",
    "data = data[['correct','threshold','hidden_size','it']]"
   ]
  },
  {
   "cell_type": "code",
   "execution_count": 5,
   "metadata": {},
   "outputs": [
    {
     "data": {
      "text/html": [
       "<div>\n",
       "<style scoped>\n",
       "    .dataframe tbody tr th:only-of-type {\n",
       "        vertical-align: middle;\n",
       "    }\n",
       "\n",
       "    .dataframe tbody tr th {\n",
       "        vertical-align: top;\n",
       "    }\n",
       "\n",
       "    .dataframe thead th {\n",
       "        text-align: right;\n",
       "    }\n",
       "</style>\n",
       "<table border=\"1\" class=\"dataframe\">\n",
       "  <thead>\n",
       "    <tr style=\"text-align: right;\">\n",
       "      <th></th>\n",
       "      <th>correct</th>\n",
       "      <th>threshold</th>\n",
       "      <th>hidden_size</th>\n",
       "      <th>it</th>\n",
       "    </tr>\n",
       "  </thead>\n",
       "  <tbody>\n",
       "    <tr>\n",
       "      <th>0</th>\n",
       "      <td>100.000000</td>\n",
       "      <td>45</td>\n",
       "      <td>16</td>\n",
       "      <td>0</td>\n",
       "    </tr>\n",
       "    <tr>\n",
       "      <th>1</th>\n",
       "      <td>100.000000</td>\n",
       "      <td>45</td>\n",
       "      <td>16</td>\n",
       "      <td>1</td>\n",
       "    </tr>\n",
       "    <tr>\n",
       "      <th>2</th>\n",
       "      <td>100.000000</td>\n",
       "      <td>45</td>\n",
       "      <td>16</td>\n",
       "      <td>2</td>\n",
       "    </tr>\n",
       "    <tr>\n",
       "      <th>3</th>\n",
       "      <td>100.000000</td>\n",
       "      <td>45</td>\n",
       "      <td>16</td>\n",
       "      <td>3</td>\n",
       "    </tr>\n",
       "    <tr>\n",
       "      <th>4</th>\n",
       "      <td>100.000000</td>\n",
       "      <td>45</td>\n",
       "      <td>16</td>\n",
       "      <td>4</td>\n",
       "    </tr>\n",
       "    <tr>\n",
       "      <th>...</th>\n",
       "      <td>...</td>\n",
       "      <td>...</td>\n",
       "      <td>...</td>\n",
       "      <td>...</td>\n",
       "    </tr>\n",
       "    <tr>\n",
       "      <th>235</th>\n",
       "      <td>100.000000</td>\n",
       "      <td>30</td>\n",
       "      <td>16</td>\n",
       "      <td>10</td>\n",
       "    </tr>\n",
       "    <tr>\n",
       "      <th>236</th>\n",
       "      <td>93.492063</td>\n",
       "      <td>30</td>\n",
       "      <td>16</td>\n",
       "      <td>11</td>\n",
       "    </tr>\n",
       "    <tr>\n",
       "      <th>237</th>\n",
       "      <td>100.000000</td>\n",
       "      <td>30</td>\n",
       "      <td>16</td>\n",
       "      <td>12</td>\n",
       "    </tr>\n",
       "    <tr>\n",
       "      <th>238</th>\n",
       "      <td>81.587302</td>\n",
       "      <td>30</td>\n",
       "      <td>16</td>\n",
       "      <td>13</td>\n",
       "    </tr>\n",
       "    <tr>\n",
       "      <th>239</th>\n",
       "      <td>100.000000</td>\n",
       "      <td>30</td>\n",
       "      <td>16</td>\n",
       "      <td>14</td>\n",
       "    </tr>\n",
       "  </tbody>\n",
       "</table>\n",
       "<p>240 rows × 4 columns</p>\n",
       "</div>"
      ],
      "text/plain": [
       "        correct  threshold  hidden_size  it\n",
       "0    100.000000         45           16   0\n",
       "1    100.000000         45           16   1\n",
       "2    100.000000         45           16   2\n",
       "3    100.000000         45           16   3\n",
       "4    100.000000         45           16   4\n",
       "..          ...        ...          ...  ..\n",
       "235  100.000000         30           16  10\n",
       "236   93.492063         30           16  11\n",
       "237  100.000000         30           16  12\n",
       "238   81.587302         30           16  13\n",
       "239  100.000000         30           16  14\n",
       "\n",
       "[240 rows x 4 columns]"
      ]
     },
     "execution_count": 5,
     "metadata": {},
     "output_type": "execute_result"
    }
   ],
   "source": [
    "data"
   ]
  },
  {
   "cell_type": "code",
   "execution_count": 33,
   "metadata": {},
   "outputs": [
    {
     "data": {
      "image/png": "[encoded data removed]",
      "text/plain": [
       "<Figure size 640x480 with 1 Axes>"
      ]
     },
     "metadata": {},
     "output_type": "display_data"
    }
   ],
   "source": [
    "sns.lineplot(data, x='threshold',y = 'correct')\n",
    "plt.xlabel('Threshold')\n",
    "plt.ylabel('Train accuracy (%)')\n",
    "plt.savefig('threshold_plot.pdf')"
   ]
  },
  {
   "cell_type": "code",
   "execution_count": 78,
   "metadata": {},
   "outputs": [
    {
     "name": "stdout",
     "output_type": "stream",
     "text": [
      "100.0\n",
      "100.0\n",
      "100.0\n",
      "100.0\n",
      "100.0\n",
      "100.0\n",
      "100.0\n",
      "100.0\n",
      "100.0\n",
      "100.0\n",
      "100.0\n",
      "100.0\n",
      "100.0\n",
      "100.0\n",
      "100.0\n",
      "100.0\n"
     ]
    }
   ],
   "source": [
    "batch_size = 64\n",
    "num_it = 4\n",
    "num_layers = num_it\n",
    "num_col_list = []\n",
    "card_list = []\n",
    "for threshold in range(30,46):\n",
    "    dataset_name = './data/QM9_IT'+str(num_layers)+'_THR'+str(threshold)+'/'  \n",
    "    dataset = QM9_reduct(dataset_name, num_it, batch_size, threshold)\n",
    "    data.loc[data['threshold'] == threshold, 'card'] = int(dataset.len())\n",
    "    card_list.append(int(dataset.len()))\n",
    "    data.loc[data['threshold'] == threshold, 'num_colors'] = int(dataset.num_classes)\n",
    "    num_col_list.append(dataset.num_classes)\n",
    "    #verify that in at least one experiment for each threshold, 100% is reached\n",
    "    print(max(data[data['threshold']==threshold]['correct']))\n",
    "data.to_csv('train_acc_data_IT4_new.csv')"
   ]
  },
  {
   "cell_type": "code",
   "execution_count": 77,
   "metadata": {},
   "outputs": [
    {
     "data": {
      "image/png": "[encoded data removed]",
      "text/plain": [
       "<Figure size 640x480 with 2 Axes>"
      ]
     },
     "metadata": {},
     "output_type": "display_data"
    }
   ],
   "source": [
    "fig = plt.figure()\n",
    "ax = plt.subplot(111)\n",
    "sns.lineplot(data, x='num_colors',y = 'correct')\n",
    "# plt.xlim(30, 45)\n",
    "# ax.xaxis.set_major_locator(MultipleLocator(200))\n",
    "ax.set_xlabel('WL colors (#)')\n",
    "ax.set_ylabel('Train accuracy (%)')\n",
    "ax2 = ax.twiny()\n",
    "sns.lineplot(data, x='card',y='correct', errorbar=None, visible=False)\n",
    "ax2.set_xlabel('Train dataset cardinality (#)')\n",
    "# ax3 = ax.twiny()\n",
    "# sns.lineplot(data, x='threshold', y='correct', errorbar=None, visible=False)\n",
    "# ax3.xaxis.set_major_locator(MultipleLocator(4))\n",
    "# #ax2.set_xticks(card_list)\n",
    "# # plt.xlim(200, 700)\n",
    "# # ax2.xaxis.set_major_locator(MultipleLocator(400))\n",
    "# ax3.spines['top'].set_position(('axes', -0.15))\n",
    "# ax3.spines['top'].set_visible(False)\n",
    "# plt.tick_params(which='both', top=False)\n",
    "plt.savefig('colors2_plot.pdf')"
   ]
  },
  {
   "cell_type": "code",
   "execution_count": 80,
   "metadata": {},
   "outputs": [
    {
     "name": "stdout",
     "output_type": "stream",
     "text": [
      "100.0\n",
      "100.0\n",
      "100.0\n",
      "100.0\n",
      "100.0\n"
     ]
    }
   ],
   "source": [
    "\n",
    "batch_size = 64\n",
    "hidden_size_list = [4,8,16,32,64]\n",
    "threshold= 35\n",
    "num_it = 4\n",
    "num_col_list = []\n",
    "card_list = []\n",
    "data = pd.read_csv('train_acc_data_THR35.csv')\n",
    "data = data[['correct','threshold','hidden_size','it']]\n",
    "for hidden_size in hidden_size_list:\n",
    "    num_layers = num_it\n",
    "    dataset_name = './data/QM9_IT'+str(num_layers)+'_THR'+str(threshold)+'/'  \n",
    "    dataset = QM9_reduct(dataset_name, num_it, batch_size, threshold)\n",
    "    data.loc[data['threshold'] == threshold, 'card'] = int(dataset.len())\n",
    "    card_list.append(int(dataset.len()))\n",
    "    data.loc[data['threshold'] == threshold, 'num_colors'] = int(dataset.num_classes)\n",
    "    num_col_list.append(dataset.num_classes)\n",
    "    #verify that in at least one experiment for each threshold, 100% is reached\n",
    "    print(max(data[data['threshold']==threshold]['correct']))\n",
    "data.to_csv('train_acc_data_THR35_new.csv')"
   ]
  },
  {
   "cell_type": "code",
   "execution_count": 85,
   "metadata": {},
   "outputs": [
    {
     "data": {
      "image/png": "[encoded data removed]",
      "text/plain": [
       "<Figure size 640x480 with 1 Axes>"
      ]
     },
     "metadata": {},
     "output_type": "display_data"
    }
   ],
   "source": [
    "sns.lineplot(data, x='hidden_size', y = 'correct')\n",
    "plt.xlabel('Hidden neurons in GIN / hidden size')\n",
    "plt.ylabel('Train accuracy (%)')\n",
    "plt.savefig('hidden_plot.pdf',bbox_inches='tight')"
   ]
  },
  {
   "cell_type": "code",
   "execution_count": null,
   "metadata": {},
   "outputs": [],
   "source": []
  }
 ],
 "metadata": {
  "kernelspec": {
   "display_name": "gnn_id",
   "language": "python",
   "name": "python3"
  },
  "language_info": {
   "codemirror_mode": {
    "name": "ipython",
    "version": 3
   },
   "file_extension": ".py",
   "mimetype": "text/x-python",
   "name": "python",
   "nbconvert_exporter": "python",
   "pygments_lexer": "ipython3",
   "version": "3.9.17"
  },
  "orig_nbformat": 4
 },
 "nbformat": 4,
 "nbformat_minor": 2
}
